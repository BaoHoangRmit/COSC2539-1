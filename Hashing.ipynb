{
 "cells": [
  {
   "cell_type": "code",
   "execution_count": 1,
   "id": "295d7ed7",
   "metadata": {},
   "outputs": [
    {
     "data": {
      "text/plain": [
       "'\\n*Title: Hahsing algorithm implementation\\n*Author: Bao Hoang\\n*Date: 24 November 2024\\n*Code version: V1\\n'"
      ]
     },
     "execution_count": 1,
     "metadata": {},
     "output_type": "execute_result"
    }
   ],
   "source": [
    "'''\n",
    "*Title: Hahsing algorithm implementation\n",
    "*Author: Bao Hoang\n",
    "*Date: 24 November 2024\n",
    "*Code version: V1\n",
    "'''"
   ]
  },
  {
   "cell_type": "code",
   "execution_count": 2,
   "id": "a985a43e",
   "metadata": {},
   "outputs": [],
   "source": [
    "import hashlib\n",
    "import time\n",
    "from Crypto.Random import get_random_bytes"
   ]
  },
  {
   "cell_type": "code",
   "execution_count": 3,
   "id": "a7c96435",
   "metadata": {},
   "outputs": [],
   "source": [
    "def test_hashing_algorithms(file_sizes):\n",
    "    # defining algorithms to be tested\n",
    "    algorithms = ['md5', 'sha256', 'sha3_256']\n",
    "    \n",
    "    for size in file_sizes:\n",
    "        data = get_random_bytes(size)\n",
    "            \n",
    "        print(f\"\\nFile Size: {size / 1024:.2f} KB\")\n",
    "        \n",
    "        for algo in algorithms:\n",
    "            hasher = hashlib.new(algo)\n",
    "            start_time = time.perf_counter()\n",
    "            hasher.update(data)\n",
    "            duration = time.perf_counter() - start_time\n",
    "            \n",
    "            print(f\"{algo.upper()} | Time: {duration:.6f} seconds\")"
   ]
  },
  {
   "cell_type": "code",
   "execution_count": 4,
   "id": "f56e8601",
   "metadata": {},
   "outputs": [
    {
     "name": "stdout",
     "output_type": "stream",
     "text": [
      "\n",
      "File Size: 1.00 KB\n",
      "MD5 | Time: 0.000024 seconds\n",
      "SHA256 | Time: 0.000001 seconds\n",
      "SHA3_256 | Time: 0.000015 seconds\n",
      "\n",
      "File Size: 1024.00 KB\n",
      "MD5 | Time: 0.001322 seconds\n",
      "SHA256 | Time: 0.000792 seconds\n",
      "SHA3_256 | Time: 0.003522 seconds\n",
      "\n",
      "File Size: 10240.00 KB\n",
      "MD5 | Time: 0.013669 seconds\n",
      "SHA256 | Time: 0.009047 seconds\n",
      "SHA3_256 | Time: 0.028345 seconds\n",
      "\n",
      "File Size: 102400.00 KB\n",
      "MD5 | Time: 0.125513 seconds\n",
      "SHA256 | Time: 0.069334 seconds\n",
      "SHA3_256 | Time: 0.274675 seconds\n",
      "\n",
      "File Size: 1048576.00 KB\n",
      "MD5 | Time: 1.290956 seconds\n",
      "SHA256 | Time: 0.672768 seconds\n",
      "SHA3_256 | Time: 2.815566 seconds\n"
     ]
    }
   ],
   "source": [
    "# Test with file sizes 1KB, 1MB, 10MB, 100MB, 1GB\n",
    "test_hashing_algorithms([1024, 1048576, 10485760, 104857600, 1073741824]) # binary"
   ]
  },
  {
   "cell_type": "code",
   "execution_count": null,
   "id": "cd7d180e",
   "metadata": {},
   "outputs": [],
   "source": []
  }
 ],
 "metadata": {
  "kernelspec": {
   "display_name": "Python 3",
   "language": "python",
   "name": "python3"
  },
  "language_info": {
   "codemirror_mode": {
    "name": "ipython",
    "version": 3
   },
   "file_extension": ".py",
   "mimetype": "text/x-python",
   "name": "python",
   "nbconvert_exporter": "python",
   "pygments_lexer": "ipython3",
   "version": "3.8.8"
  }
 },
 "nbformat": 4,
 "nbformat_minor": 5
}
