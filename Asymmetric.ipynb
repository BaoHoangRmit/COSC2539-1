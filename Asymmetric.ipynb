{
 "cells": [
  {
   "cell_type": "code",
   "execution_count": 1,
   "id": "5dfe7c86",
   "metadata": {},
   "outputs": [
    {
     "data": {
      "text/plain": [
       "'\\n*Title: Asymmetric algorithm implementation\\n*Author: Bao Hoang\\n*Date: 24 November 2024\\n*Code version: V1\\n'"
      ]
     },
     "execution_count": 1,
     "metadata": {},
     "output_type": "execute_result"
    }
   ],
   "source": [
    "'''\n",
    "*Title: Asymmetric algorithm implementation\n",
    "*Author: Bao Hoang\n",
    "*Date: 24 November 2024\n",
    "*Code version: V1\n",
    "'''"
   ]
  },
  {
   "cell_type": "code",
   "execution_count": 2,
   "id": "67ef1d41",
   "metadata": {},
   "outputs": [],
   "source": [
    "from Crypto.PublicKey import RSA, ECC\n",
    "from Crypto.Cipher import PKCS1_OAEP\n",
    "from Crypto.Signature import DSS\n",
    "from Crypto.Hash import SHA256\n",
    "from Crypto.Protocol.KDF import HKDF\n",
    "from Crypto.Random import get_random_bytes\n",
    "from Crypto.Cipher import AES\n",
    "import time"
   ]
  },
  {
   "cell_type": "code",
   "execution_count": 3,
   "id": "a7d16ce5",
   "metadata": {},
   "outputs": [],
   "source": [
    "def test_asymmetric_algorithms():\n",
    "    print(\"\\n=== RSA Encryption Test ===\")\n",
    "    # RSA Encryption Test\n",
    "    rsa_key = RSA.generate(2048)  # Generate 2048-bit RSA key pair\n",
    "    rsa_cipher = PKCS1_OAEP.new(rsa_key)\n",
    "    \n",
    "    #rsa_data = b\"Test data for RSA encryption\"  # Adjust to fit RSA constraints\n",
    "    rsa_data = get_random_bytes(215)\n",
    "    if len(rsa_data) > 214:  # Maximum for 2048-bit RSA with OAEP padding\n",
    "        rsa_data = rsa_data[:214]  # Truncate to fit\n",
    "    \n",
    "    start_time = time.perf_counter()\n",
    "    encrypted_data = rsa_cipher.encrypt(rsa_data)\n",
    "    rsa_duration = time.perf_counter() - start_time \n",
    "    decrypted_data = rsa_cipher.decrypt(encrypted_data)\n",
    "\n",
    "    print(f\"RSA | Data Size: {len(rsa_data)} bytes | Time: {rsa_duration:.6f} seconds\")\n",
    "\n",
    "    print(\"\\n=== ECC Diffie-Hellman Key Exchange ===\")\n",
    "    # ECC Diffie-Hellman Key Exchange\n",
    "    ecc_key_1 = ECC.generate(curve='P-256')  # Party 1 generates private key\n",
    "    ecc_key_2 = ECC.generate(curve='P-256')  # Party 2 generates private key\n",
    "\n",
    "    start_time = time.perf_counter()\n",
    "    # Each party computes shared secret\n",
    "    shared_secret_1 = ecc_key_1.pointQ * ecc_key_2.d  # Party 1 computes\n",
    "    shared_secret_2 = ecc_key_2.pointQ * ecc_key_1.d  # Party 2 computes\n",
    "    ecc_duration = time.perf_counter() - start_time\n",
    "\n",
    "    # Verify shared secrets match\n",
    "    assert shared_secret_1 == shared_secret_2, \"ECC Diffie-Hellman failed!\"\n",
    "    print(f\"ECC | Curve: P-256 | Shared secret compute Time: {ecc_duration:.6f} seconds | Shared Secret Matches\")\n",
    "\n",
    "    print(\"\\n=== ECC Digital Signature Test ===\")\n",
    "    # ECC Digital Signature Test\n",
    "    message = b\"Message to sign\"\n",
    "    signer = DSS.new(ecc_key_1, 'fips-186-3')\n",
    "    h = SHA256.new(message)\n",
    "\n",
    "    start_time = time.perf_counter()\n",
    "    signature = signer.sign(h)\n",
    "    signing_duration = time.perf_counter() - start_time\n",
    "    print(f\"ECC (Signing) | Curve: P-256 | Signing Time: {signing_duration:.6f} seconds\")"
   ]
  },
  {
   "cell_type": "code",
   "execution_count": 4,
   "id": "9e616dc2",
   "metadata": {},
   "outputs": [
    {
     "name": "stdout",
     "output_type": "stream",
     "text": [
      "\n",
      "=== RSA Encryption Test ===\n",
      "RSA | Data Size: 214 bytes | Time: 0.001787 seconds\n",
      "\n",
      "=== ECC Diffie-Hellman Key Exchange ===\n",
      "ECC | Curve: P-256 | Shared secret compute Time: 0.001662 seconds | Shared Secret Matches\n",
      "\n",
      "=== ECC Digital Signature Test ===\n",
      "ECC (Signing) | Curve: P-256 | Signing Time: 0.000406 seconds\n"
     ]
    }
   ],
   "source": [
    "test_asymmetric_algorithms()"
   ]
  },
  {
   "cell_type": "code",
   "execution_count": null,
   "id": "9fa545cc",
   "metadata": {},
   "outputs": [],
   "source": []
  }
 ],
 "metadata": {
  "kernelspec": {
   "display_name": "Python 3",
   "language": "python",
   "name": "python3"
  },
  "language_info": {
   "codemirror_mode": {
    "name": "ipython",
    "version": 3
   },
   "file_extension": ".py",
   "mimetype": "text/x-python",
   "name": "python",
   "nbconvert_exporter": "python",
   "pygments_lexer": "ipython3",
   "version": "3.8.8"
  }
 },
 "nbformat": 4,
 "nbformat_minor": 5
}
