{
 "cells": [
  {
   "cell_type": "code",
   "execution_count": 1,
   "id": "73dc6792",
   "metadata": {},
   "outputs": [
    {
     "data": {
      "text/plain": [
       "'\\n*Title: Symmetric algorithm implementation\\n*Author: Bao Hoang\\n*Date: 24 November 2024\\n*Code version: V1\\n'"
      ]
     },
     "execution_count": 1,
     "metadata": {},
     "output_type": "execute_result"
    }
   ],
   "source": [
    "'''\n",
    "*Title: Symmetric algorithm implementation\n",
    "*Author: Bao Hoang\n",
    "*Date: 24 November 2024\n",
    "*Code version: V1\n",
    "'''"
   ]
  },
  {
   "cell_type": "code",
   "execution_count": 2,
   "id": "add928c1",
   "metadata": {},
   "outputs": [],
   "source": [
    "from Crypto.Cipher import AES, DES, Blowfish\n",
    "from Crypto.Random import get_random_bytes\n",
    "import time"
   ]
  },
  {
   "cell_type": "code",
   "execution_count": 3,
   "id": "2f011c27",
   "metadata": {},
   "outputs": [],
   "source": [
    "def test_symmetric_algorithms(data_sizes):\n",
    "    algorithms = {\n",
    "        \"AES\": {\"key_size\": 16, \"block_size\": 16},\n",
    "        \"DES\": {\"key_size\": 8, \"block_size\": 8},\n",
    "        \"Blowfish\": {\"key_size\": 16, \"block_size\": 8}\n",
    "    }\n",
    "    for data_size in data_sizes:\n",
    "        data = get_random_bytes(data_size)\n",
    "        \n",
    "        print(f\"\\nFile Size: {data_size / 1024:.2f} KB\")\n",
    "        \n",
    "        for algo, params in algorithms.items():\n",
    "            key = get_random_bytes(params[\"key_size\"])\n",
    "            cipher = None\n",
    "            if algo == \"AES\":\n",
    "                cipher = AES.new(key, AES.MODE_ECB)\n",
    "            elif algo == \"DES\":\n",
    "                cipher = DES.new(key, DES.MODE_ECB)\n",
    "            elif algo == \"Blowfish\":\n",
    "                cipher = Blowfish.new(key, Blowfish.MODE_ECB)\n",
    "            \n",
    "            # pad data to desired length for each algorithms\n",
    "            padded_data = data.ljust((len(data) + params[\"block_size\"] - 1) // params[\"block_size\"] * params[\"block_size\"])\n",
    "            \n",
    "            start_time = time.perf_counter()\n",
    "            cipher.encrypt(padded_data)\n",
    "            duration = time.perf_counter() - start_time\n",
    "            \n",
    "            print(f\"{algo} | Time: {duration:.6f} seconds\")"
   ]
  },
  {
   "cell_type": "code",
   "execution_count": 4,
   "id": "d3decf47",
   "metadata": {},
   "outputs": [
    {
     "name": "stdout",
     "output_type": "stream",
     "text": [
      "\n",
      "File Size: 1.00 KB\n",
      "AES | Time: 0.000837 seconds\n",
      "DES | Time: 0.000196 seconds\n",
      "Blowfish | Time: 0.000048 seconds\n",
      "\n",
      "File Size: 1024.00 KB\n",
      "AES | Time: 0.000786 seconds\n",
      "DES | Time: 0.011950 seconds\n",
      "Blowfish | Time: 0.004714 seconds\n",
      "\n",
      "File Size: 10240.00 KB\n",
      "AES | Time: 0.005689 seconds\n",
      "DES | Time: 0.104762 seconds\n",
      "Blowfish | Time: 0.046046 seconds\n",
      "\n",
      "File Size: 102400.00 KB\n",
      "AES | Time: 0.068196 seconds\n",
      "DES | Time: 1.067989 seconds\n",
      "Blowfish | Time: 0.464843 seconds\n",
      "\n",
      "File Size: 1048576.00 KB\n",
      "AES | Time: 0.691095 seconds\n",
      "DES | Time: 11.168399 seconds\n",
      "Blowfish | Time: 5.048169 seconds\n"
     ]
    }
   ],
   "source": [
    "# Test with data sizes 1KB, 1MB, 10MB, 100MB, 1GB\n",
    "test_symmetric_algorithms([1024, 1048576, 10485760, 104857600, 1073741824])"
   ]
  },
  {
   "cell_type": "code",
   "execution_count": null,
   "id": "71d350a9",
   "metadata": {},
   "outputs": [],
   "source": []
  }
 ],
 "metadata": {
  "kernelspec": {
   "display_name": "Python 3",
   "language": "python",
   "name": "python3"
  },
  "language_info": {
   "codemirror_mode": {
    "name": "ipython",
    "version": 3
   },
   "file_extension": ".py",
   "mimetype": "text/x-python",
   "name": "python",
   "nbconvert_exporter": "python",
   "pygments_lexer": "ipython3",
   "version": "3.8.8"
  }
 },
 "nbformat": 4,
 "nbformat_minor": 5
}
